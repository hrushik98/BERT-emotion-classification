{
  "nbformat": 4,
  "nbformat_minor": 0,
  "metadata": {
    "colab": {
      "provenance": [],
      "gpuType": "T4"
    },
    "kernelspec": {
      "name": "python3",
      "display_name": "Python 3"
    },
    "language_info": {
      "name": "python"
    },
    "accelerator": "GPU"
  },
  "cells": [
    {
      "cell_type": "code",
      "source": [
        "!pip install alt-profanity-check -q\n",
        "!pip install transformers -q"
      ],
      "metadata": {
        "colab": {
          "base_uri": "https://localhost:8080/"
        },
        "id": "TGv5lnUM6KrK",
        "outputId": "25c6c764-03f0-4b19-b74a-d30f914a1089"
      },
      "execution_count": 1,
      "outputs": [
        {
          "output_type": "stream",
          "name": "stdout",
          "text": [
            "\u001b[?25l     \u001b[90m━━━━━━━━━━━━━━━━━━━━━━━━━━━━━━━━━━━━━━━━\u001b[0m \u001b[32m0.0/1.9 MB\u001b[0m \u001b[31m?\u001b[0m eta \u001b[36m-:--:--\u001b[0m\r\u001b[2K     \u001b[91m━━\u001b[0m\u001b[90m╺\u001b[0m\u001b[90m━━━━━━━━━━━━━━━━━━━━━━━━━━━━━━━━━━━━━\u001b[0m \u001b[32m0.1/1.9 MB\u001b[0m \u001b[31m3.1 MB/s\u001b[0m eta \u001b[36m0:00:01\u001b[0m\r\u001b[2K     \u001b[91m━━━━━━━━━━━━━━━━━━━━━━━━━━━━━━━━━━━━━━━\u001b[0m\u001b[91m╸\u001b[0m \u001b[32m1.9/1.9 MB\u001b[0m \u001b[31m31.4 MB/s\u001b[0m eta \u001b[36m0:00:01\u001b[0m\r\u001b[2K     \u001b[90m━━━━━━━━━━━━━━━━━━━━━━━━━━━━━━━━━━━━━━━━\u001b[0m \u001b[32m1.9/1.9 MB\u001b[0m \u001b[31m25.6 MB/s\u001b[0m eta \u001b[36m0:00:00\u001b[0m\n",
            "\u001b[?25h  Preparing metadata (setup.py) ... \u001b[?25l\u001b[?25hdone\n",
            "\u001b[2K     \u001b[90m━━━━━━━━━━━━━━━━━━━━━━━━━━━━━━━━━━━━━━━━\u001b[0m \u001b[32m10.8/10.8 MB\u001b[0m \u001b[31m45.1 MB/s\u001b[0m eta \u001b[36m0:00:00\u001b[0m\n",
            "\u001b[?25h  Building wheel for alt-profanity-check (setup.py) ... \u001b[?25l\u001b[?25hdone\n",
            "\u001b[2K     \u001b[90m━━━━━━━━━━━━━━━━━━━━━━━━━━━━━━━━━━━━━━━━\u001b[0m \u001b[32m7.9/7.9 MB\u001b[0m \u001b[31m51.6 MB/s\u001b[0m eta \u001b[36m0:00:00\u001b[0m\n",
            "\u001b[2K     \u001b[90m━━━━━━━━━━━━━━━━━━━━━━━━━━━━━━━━━━━━━━━━\u001b[0m \u001b[32m311.2/311.2 kB\u001b[0m \u001b[31m36.9 MB/s\u001b[0m eta \u001b[36m0:00:00\u001b[0m\n",
            "\u001b[2K     \u001b[90m━━━━━━━━━━━━━━━━━━━━━━━━━━━━━━━━━━━━━━━━\u001b[0m \u001b[32m3.8/3.8 MB\u001b[0m \u001b[31m52.6 MB/s\u001b[0m eta \u001b[36m0:00:00\u001b[0m\n",
            "\u001b[2K     \u001b[90m━━━━━━━━━━━━━━━━━━━━━━━━━━━━━━━━━━━━━━━━\u001b[0m \u001b[32m1.3/1.3 MB\u001b[0m \u001b[31m83.0 MB/s\u001b[0m eta \u001b[36m0:00:00\u001b[0m\n",
            "\u001b[2K     \u001b[90m━━━━━━━━━━━━━━━━━━━━━━━━━━━━━━━━━━━━━━━━\u001b[0m \u001b[32m295.0/295.0 kB\u001b[0m \u001b[31m34.8 MB/s\u001b[0m eta \u001b[36m0:00:00\u001b[0m\n",
            "\u001b[?25h"
          ]
        }
      ]
    },
    {
      "cell_type": "code",
      "execution_count": 2,
      "metadata": {
        "id": "Qg1RHfQHgqPs"
      },
      "outputs": [],
      "source": [
        "import pandas as pd\n",
        "import torch\n",
        "from transformers import BertTokenizer, BertForSequenceClassification, AdamW\n",
        "from torch.utils.data import DataLoader, TensorDataset\n",
        "from sklearn.model_selection import train_test_split\n",
        "from sklearn.preprocessing import LabelEncoder\n",
        "from transformers import BertTokenizer, BertForSequenceClassification\n",
        "import torch\n",
        "import pickle\n",
        "import os\n",
        "from sklearn.preprocessing import LabelEncoder"
      ]
    },
    {
      "cell_type": "markdown",
      "source": [
        "# Removing duplicate records & displaying them"
      ],
      "metadata": {
        "id": "2UeWTohAg8P9"
      }
    },
    {
      "cell_type": "code",
      "source": [
        "data = pd.read_csv(\"/content/Data for AI Assignment.csv\")"
      ],
      "metadata": {
        "id": "7NQz5d3JgzF3"
      },
      "execution_count": 3,
      "outputs": []
    },
    {
      "cell_type": "code",
      "source": [
        "duplicates = data[data.duplicated(subset='Text')]\n",
        "data = data.drop_duplicates(subset='Text').reset_index(drop=True)"
      ],
      "metadata": {
        "id": "FExRsXjdhIPl"
      },
      "execution_count": 4,
      "outputs": []
    },
    {
      "cell_type": "code",
      "source": [
        "#duplicate records\n",
        "print(duplicates)"
      ],
      "metadata": {
        "colab": {
          "base_uri": "https://localhost:8080/"
        },
        "id": "h7TWKOgthJlK",
        "outputId": "14375eb9-5368-4d9a-acb3-2281a84374f8"
      },
      "execution_count": 5,
      "outputs": [
        {
          "output_type": "stream",
          "name": "stdout",
          "text": [
            "                                                    Text Classification\n",
            "5067   i feel on the verge of tears from weariness i ...            joy\n",
            "6133               i still feel a craving for sweet food           love\n",
            "6563   i tend to stop breathing when i m feeling stre...          anger\n",
            "7623   i was intensely conscious of how much cash i h...        sadness\n",
            "7685   im still not sure why reilly feels the need to...       surprise\n",
            "8246   i am not amazing or great at photography but i...           love\n",
            "9596   ive also made it with both sugar measurements ...            joy\n",
            "9687   i had to choose the sleek and smoother feel of...            joy\n",
            "9769   i often find myself feeling assaulted by a mul...        sadness\n",
            "9786        i feel im being generous with that statement            joy\n",
            "10117  i feel pretty tortured because i work a job an...           fear\n",
            "10581                       i feel most passionate about            joy\n",
            "11273  i was so stubborn and that it took you getting...            joy\n",
            "11354  i write these words i feel sweet baby kicks fr...           love\n",
            "11525  i feel a remembrance of the strange by justin ...           fear\n",
            "11823  i have chose for myself that makes me feel ama...            joy\n",
            "12441                   i still feel completely accepted           love\n",
            "12562                           i feel so weird about it       surprise\n",
            "12892  i cant escape the tears of sadness and just tr...            joy\n",
            "13236   i feel like a tortured artist when i talk to her          anger\n",
            "13846  i feel more adventurous willing to take risks ...            joy\n",
            "13880  i feel like i am very passionate about youtube...           love\n",
            "14107                             i feel kind of strange       surprise\n",
            "14314    i could feel myself hit this strange foggy wall       surprise\n",
            "14634  i feel pretty weird blogging about deodorant b...           fear\n",
            "14926  i resorted to yesterday the post peak day of i...           fear\n",
            "15315  i will feel as though i am accepted by as well...            joy\n",
            "15329  i shy away from songs that talk about how i fe...            joy\n",
            "15572  i bet taylor swift basks in the knowledge that...          anger\n",
            "15705  i began to feel accepted by gaia on her own terms            joy\n",
            "15876  i was sitting in the corner stewing in my own ...          anger\n",
            "16000           i feel like this was such a rude comment          anger\n",
            "16263  i realized what i am passionate about helping ...            joy\n",
            "16266  i feel so blessed and honored that we get to b...           love\n",
            "16354  i could feel his breath on me and smell the sw...            joy\n",
            "16416  i loved the feeling i got during an amazing sl...            joy\n",
            "16503  i am feeling stressed and more than a bit anxious          anger\n",
            "16587  i found myself feeling inhibited and shushing ...        sadness\n",
            "16918  i feel the need to pimp this since raini my be...            joy\n",
            "16960                      i feel cared for and accepted           love\n",
            "17027  i have not conducted a survey but it is quite ...        sadness\n",
            "17276  i feel so weird and scattered with all wonders...       surprise\n",
            "17888  i feel like some of you have pains and you can...            joy\n"
          ]
        }
      ]
    },
    {
      "cell_type": "markdown",
      "source": [
        "# Remove Records With Profanities"
      ],
      "metadata": {
        "id": "yeQXl3IEhhPp"
      }
    },
    {
      "cell_type": "code",
      "source": [
        "data['profanity_level']= \"-\""
      ],
      "metadata": {
        "id": "nUNsq3owhNJf"
      },
      "execution_count": 6,
      "outputs": []
    },
    {
      "cell_type": "code",
      "source": [
        "from profanity_check import predict, predict_prob\n",
        "for i in range(0, len(data)):\n",
        "  custom_sentence = f\"{data['Text'][i]}\"\n",
        "  p = predict_prob([custom_sentence])[0]\n",
        "  data['profanity_level'][i] = round(p,3)\n",
        "\n"
      ],
      "metadata": {
        "id": "dBfyU-Bjhkr5"
      },
      "execution_count": 7,
      "outputs": []
    },
    {
      "cell_type": "code",
      "source": [
        "data_with_profanities =  data[data['profanity_level'] >= 0.8]"
      ],
      "metadata": {
        "id": "wQ4lYvxIzCHP"
      },
      "execution_count": 8,
      "outputs": []
    },
    {
      "cell_type": "code",
      "source": [
        "#data with profanities\n",
        "pd.DataFrame(data_with_profanities)"
      ],
      "metadata": {
        "colab": {
          "base_uri": "https://localhost:8080/",
          "height": 424
        },
        "id": "UVbOSdHqzXAX",
        "outputId": "6b7a84e1-f308-4cea-d882-cc4ba76cf805"
      },
      "execution_count": 9,
      "outputs": [
        {
          "output_type": "execute_result",
          "data": {
            "text/plain": [
              "                                                    Text Classification  \\\n",
              "56     i hate living under my dads roof because it gi...        sadness   \n",
              "80              i feel like a miserable piece of garbage        sadness   \n",
              "95     i feel like throwing away the shitty piece of ...        sadness   \n",
              "99     i say goodbye to the fam theyre all sad a cryi...          anger   \n",
              "189         i think im just being stupid feeling nervous           fear   \n",
              "...                                                  ...            ...   \n",
              "17754                      i feel like a moronic bastard        sadness   \n",
              "17855  i was stupid and said yes which made me feel i...        sadness   \n",
              "17866                    i always feel stupid afterwards        sadness   \n",
              "17884  i feel so pathetic and useless being unable to...        sadness   \n",
              "17898  i feel so discontent so guilty so pathetic so ...        sadness   \n",
              "\n",
              "      profanity_level  \n",
              "56              0.808  \n",
              "80              0.886  \n",
              "95              0.997  \n",
              "99               0.89  \n",
              "189             0.815  \n",
              "...               ...  \n",
              "17754           0.999  \n",
              "17855           0.995  \n",
              "17866           0.998  \n",
              "17884           0.808  \n",
              "17898           0.981  \n",
              "\n",
              "[291 rows x 3 columns]"
            ],
            "text/html": [
              "\n",
              "  <div id=\"df-7aa75323-6228-486a-8cf5-51a5d237ffd4\" class=\"colab-df-container\">\n",
              "    <div>\n",
              "<style scoped>\n",
              "    .dataframe tbody tr th:only-of-type {\n",
              "        vertical-align: middle;\n",
              "    }\n",
              "\n",
              "    .dataframe tbody tr th {\n",
              "        vertical-align: top;\n",
              "    }\n",
              "\n",
              "    .dataframe thead th {\n",
              "        text-align: right;\n",
              "    }\n",
              "</style>\n",
              "<table border=\"1\" class=\"dataframe\">\n",
              "  <thead>\n",
              "    <tr style=\"text-align: right;\">\n",
              "      <th></th>\n",
              "      <th>Text</th>\n",
              "      <th>Classification</th>\n",
              "      <th>profanity_level</th>\n",
              "    </tr>\n",
              "  </thead>\n",
              "  <tbody>\n",
              "    <tr>\n",
              "      <th>56</th>\n",
              "      <td>i hate living under my dads roof because it gi...</td>\n",
              "      <td>sadness</td>\n",
              "      <td>0.808</td>\n",
              "    </tr>\n",
              "    <tr>\n",
              "      <th>80</th>\n",
              "      <td>i feel like a miserable piece of garbage</td>\n",
              "      <td>sadness</td>\n",
              "      <td>0.886</td>\n",
              "    </tr>\n",
              "    <tr>\n",
              "      <th>95</th>\n",
              "      <td>i feel like throwing away the shitty piece of ...</td>\n",
              "      <td>sadness</td>\n",
              "      <td>0.997</td>\n",
              "    </tr>\n",
              "    <tr>\n",
              "      <th>99</th>\n",
              "      <td>i say goodbye to the fam theyre all sad a cryi...</td>\n",
              "      <td>anger</td>\n",
              "      <td>0.89</td>\n",
              "    </tr>\n",
              "    <tr>\n",
              "      <th>189</th>\n",
              "      <td>i think im just being stupid feeling nervous</td>\n",
              "      <td>fear</td>\n",
              "      <td>0.815</td>\n",
              "    </tr>\n",
              "    <tr>\n",
              "      <th>...</th>\n",
              "      <td>...</td>\n",
              "      <td>...</td>\n",
              "      <td>...</td>\n",
              "    </tr>\n",
              "    <tr>\n",
              "      <th>17754</th>\n",
              "      <td>i feel like a moronic bastard</td>\n",
              "      <td>sadness</td>\n",
              "      <td>0.999</td>\n",
              "    </tr>\n",
              "    <tr>\n",
              "      <th>17855</th>\n",
              "      <td>i was stupid and said yes which made me feel i...</td>\n",
              "      <td>sadness</td>\n",
              "      <td>0.995</td>\n",
              "    </tr>\n",
              "    <tr>\n",
              "      <th>17866</th>\n",
              "      <td>i always feel stupid afterwards</td>\n",
              "      <td>sadness</td>\n",
              "      <td>0.998</td>\n",
              "    </tr>\n",
              "    <tr>\n",
              "      <th>17884</th>\n",
              "      <td>i feel so pathetic and useless being unable to...</td>\n",
              "      <td>sadness</td>\n",
              "      <td>0.808</td>\n",
              "    </tr>\n",
              "    <tr>\n",
              "      <th>17898</th>\n",
              "      <td>i feel so discontent so guilty so pathetic so ...</td>\n",
              "      <td>sadness</td>\n",
              "      <td>0.981</td>\n",
              "    </tr>\n",
              "  </tbody>\n",
              "</table>\n",
              "<p>291 rows × 3 columns</p>\n",
              "</div>\n",
              "    <div class=\"colab-df-buttons\">\n",
              "\n",
              "  <div class=\"colab-df-container\">\n",
              "    <button class=\"colab-df-convert\" onclick=\"convertToInteractive('df-7aa75323-6228-486a-8cf5-51a5d237ffd4')\"\n",
              "            title=\"Convert this dataframe to an interactive table.\"\n",
              "            style=\"display:none;\">\n",
              "\n",
              "  <svg xmlns=\"http://www.w3.org/2000/svg\" height=\"24px\" viewBox=\"0 -960 960 960\">\n",
              "    <path d=\"M120-120v-720h720v720H120Zm60-500h600v-160H180v160Zm220 220h160v-160H400v160Zm0 220h160v-160H400v160ZM180-400h160v-160H180v160Zm440 0h160v-160H620v160ZM180-180h160v-160H180v160Zm440 0h160v-160H620v160Z\"/>\n",
              "  </svg>\n",
              "    </button>\n",
              "\n",
              "  <style>\n",
              "    .colab-df-container {\n",
              "      display:flex;\n",
              "      gap: 12px;\n",
              "    }\n",
              "\n",
              "    .colab-df-convert {\n",
              "      background-color: #E8F0FE;\n",
              "      border: none;\n",
              "      border-radius: 50%;\n",
              "      cursor: pointer;\n",
              "      display: none;\n",
              "      fill: #1967D2;\n",
              "      height: 32px;\n",
              "      padding: 0 0 0 0;\n",
              "      width: 32px;\n",
              "    }\n",
              "\n",
              "    .colab-df-convert:hover {\n",
              "      background-color: #E2EBFA;\n",
              "      box-shadow: 0px 1px 2px rgba(60, 64, 67, 0.3), 0px 1px 3px 1px rgba(60, 64, 67, 0.15);\n",
              "      fill: #174EA6;\n",
              "    }\n",
              "\n",
              "    .colab-df-buttons div {\n",
              "      margin-bottom: 4px;\n",
              "    }\n",
              "\n",
              "    [theme=dark] .colab-df-convert {\n",
              "      background-color: #3B4455;\n",
              "      fill: #D2E3FC;\n",
              "    }\n",
              "\n",
              "    [theme=dark] .colab-df-convert:hover {\n",
              "      background-color: #434B5C;\n",
              "      box-shadow: 0px 1px 3px 1px rgba(0, 0, 0, 0.15);\n",
              "      filter: drop-shadow(0px 1px 2px rgba(0, 0, 0, 0.3));\n",
              "      fill: #FFFFFF;\n",
              "    }\n",
              "  </style>\n",
              "\n",
              "    <script>\n",
              "      const buttonEl =\n",
              "        document.querySelector('#df-7aa75323-6228-486a-8cf5-51a5d237ffd4 button.colab-df-convert');\n",
              "      buttonEl.style.display =\n",
              "        google.colab.kernel.accessAllowed ? 'block' : 'none';\n",
              "\n",
              "      async function convertToInteractive(key) {\n",
              "        const element = document.querySelector('#df-7aa75323-6228-486a-8cf5-51a5d237ffd4');\n",
              "        const dataTable =\n",
              "          await google.colab.kernel.invokeFunction('convertToInteractive',\n",
              "                                                    [key], {});\n",
              "        if (!dataTable) return;\n",
              "\n",
              "        const docLinkHtml = 'Like what you see? Visit the ' +\n",
              "          '<a target=\"_blank\" href=https://colab.research.google.com/notebooks/data_table.ipynb>data table notebook</a>'\n",
              "          + ' to learn more about interactive tables.';\n",
              "        element.innerHTML = '';\n",
              "        dataTable['output_type'] = 'display_data';\n",
              "        await google.colab.output.renderOutput(dataTable, element);\n",
              "        const docLink = document.createElement('div');\n",
              "        docLink.innerHTML = docLinkHtml;\n",
              "        element.appendChild(docLink);\n",
              "      }\n",
              "    </script>\n",
              "  </div>\n",
              "\n",
              "\n",
              "<div id=\"df-d460a030-38fe-45a0-b904-368d9b9ac8b2\">\n",
              "  <button class=\"colab-df-quickchart\" onclick=\"quickchart('df-d460a030-38fe-45a0-b904-368d9b9ac8b2')\"\n",
              "            title=\"Suggest charts\"\n",
              "            style=\"display:none;\">\n",
              "\n",
              "<svg xmlns=\"http://www.w3.org/2000/svg\" height=\"24px\"viewBox=\"0 0 24 24\"\n",
              "     width=\"24px\">\n",
              "    <g>\n",
              "        <path d=\"M19 3H5c-1.1 0-2 .9-2 2v14c0 1.1.9 2 2 2h14c1.1 0 2-.9 2-2V5c0-1.1-.9-2-2-2zM9 17H7v-7h2v7zm4 0h-2V7h2v10zm4 0h-2v-4h2v4z\"/>\n",
              "    </g>\n",
              "</svg>\n",
              "  </button>\n",
              "\n",
              "<style>\n",
              "  .colab-df-quickchart {\n",
              "      --bg-color: #E8F0FE;\n",
              "      --fill-color: #1967D2;\n",
              "      --hover-bg-color: #E2EBFA;\n",
              "      --hover-fill-color: #174EA6;\n",
              "      --disabled-fill-color: #AAA;\n",
              "      --disabled-bg-color: #DDD;\n",
              "  }\n",
              "\n",
              "  [theme=dark] .colab-df-quickchart {\n",
              "      --bg-color: #3B4455;\n",
              "      --fill-color: #D2E3FC;\n",
              "      --hover-bg-color: #434B5C;\n",
              "      --hover-fill-color: #FFFFFF;\n",
              "      --disabled-bg-color: #3B4455;\n",
              "      --disabled-fill-color: #666;\n",
              "  }\n",
              "\n",
              "  .colab-df-quickchart {\n",
              "    background-color: var(--bg-color);\n",
              "    border: none;\n",
              "    border-radius: 50%;\n",
              "    cursor: pointer;\n",
              "    display: none;\n",
              "    fill: var(--fill-color);\n",
              "    height: 32px;\n",
              "    padding: 0;\n",
              "    width: 32px;\n",
              "  }\n",
              "\n",
              "  .colab-df-quickchart:hover {\n",
              "    background-color: var(--hover-bg-color);\n",
              "    box-shadow: 0 1px 2px rgba(60, 64, 67, 0.3), 0 1px 3px 1px rgba(60, 64, 67, 0.15);\n",
              "    fill: var(--button-hover-fill-color);\n",
              "  }\n",
              "\n",
              "  .colab-df-quickchart-complete:disabled,\n",
              "  .colab-df-quickchart-complete:disabled:hover {\n",
              "    background-color: var(--disabled-bg-color);\n",
              "    fill: var(--disabled-fill-color);\n",
              "    box-shadow: none;\n",
              "  }\n",
              "\n",
              "  .colab-df-spinner {\n",
              "    border: 2px solid var(--fill-color);\n",
              "    border-color: transparent;\n",
              "    border-bottom-color: var(--fill-color);\n",
              "    animation:\n",
              "      spin 1s steps(1) infinite;\n",
              "  }\n",
              "\n",
              "  @keyframes spin {\n",
              "    0% {\n",
              "      border-color: transparent;\n",
              "      border-bottom-color: var(--fill-color);\n",
              "      border-left-color: var(--fill-color);\n",
              "    }\n",
              "    20% {\n",
              "      border-color: transparent;\n",
              "      border-left-color: var(--fill-color);\n",
              "      border-top-color: var(--fill-color);\n",
              "    }\n",
              "    30% {\n",
              "      border-color: transparent;\n",
              "      border-left-color: var(--fill-color);\n",
              "      border-top-color: var(--fill-color);\n",
              "      border-right-color: var(--fill-color);\n",
              "    }\n",
              "    40% {\n",
              "      border-color: transparent;\n",
              "      border-right-color: var(--fill-color);\n",
              "      border-top-color: var(--fill-color);\n",
              "    }\n",
              "    60% {\n",
              "      border-color: transparent;\n",
              "      border-right-color: var(--fill-color);\n",
              "    }\n",
              "    80% {\n",
              "      border-color: transparent;\n",
              "      border-right-color: var(--fill-color);\n",
              "      border-bottom-color: var(--fill-color);\n",
              "    }\n",
              "    90% {\n",
              "      border-color: transparent;\n",
              "      border-bottom-color: var(--fill-color);\n",
              "    }\n",
              "  }\n",
              "</style>\n",
              "\n",
              "  <script>\n",
              "    async function quickchart(key) {\n",
              "      const quickchartButtonEl =\n",
              "        document.querySelector('#' + key + ' button');\n",
              "      quickchartButtonEl.disabled = true;  // To prevent multiple clicks.\n",
              "      quickchartButtonEl.classList.add('colab-df-spinner');\n",
              "      try {\n",
              "        const charts = await google.colab.kernel.invokeFunction(\n",
              "            'suggestCharts', [key], {});\n",
              "      } catch (error) {\n",
              "        console.error('Error during call to suggestCharts:', error);\n",
              "      }\n",
              "      quickchartButtonEl.classList.remove('colab-df-spinner');\n",
              "      quickchartButtonEl.classList.add('colab-df-quickchart-complete');\n",
              "    }\n",
              "    (() => {\n",
              "      let quickchartButtonEl =\n",
              "        document.querySelector('#df-d460a030-38fe-45a0-b904-368d9b9ac8b2 button');\n",
              "      quickchartButtonEl.style.display =\n",
              "        google.colab.kernel.accessAllowed ? 'block' : 'none';\n",
              "    })();\n",
              "  </script>\n",
              "</div>\n",
              "    </div>\n",
              "  </div>\n"
            ]
          },
          "metadata": {},
          "execution_count": 9
        }
      ]
    },
    {
      "cell_type": "code",
      "source": [
        "#data without profanities\n",
        "data = data[data['profanity_level'] < 0.8].reset_index(drop=True)\n",
        "data.head(5)"
      ],
      "metadata": {
        "id": "1G86EKXZyY4L"
      },
      "execution_count": 10,
      "outputs": []
    },
    {
      "cell_type": "code",
      "source": [
        "data.to_csv(\"preprocessed_data.csv\")"
      ],
      "metadata": {
        "id": "Z6OPibUJy7Y4"
      },
      "execution_count": 14,
      "outputs": []
    },
    {
      "cell_type": "markdown",
      "source": [
        "# Finetuning a BERT base model for emotion classification"
      ],
      "metadata": {
        "id": "fcuJ2_gk0IQ-"
      }
    },
    {
      "cell_type": "code",
      "source": [
        "df = pd.read_csv(\"preprocessed_data.csv\")"
      ],
      "metadata": {
        "id": "xUaIxTSG0PKB"
      },
      "execution_count": 15,
      "outputs": []
    },
    {
      "cell_type": "code",
      "source": [
        "df.columns"
      ],
      "metadata": {
        "colab": {
          "base_uri": "https://localhost:8080/"
        },
        "id": "7WXByaOj0Sp3",
        "outputId": "32bdedc5-e4f7-4fda-bbd3-20f570587840"
      },
      "execution_count": 16,
      "outputs": [
        {
          "output_type": "execute_result",
          "data": {
            "text/plain": [
              "Index(['Unnamed: 0', 'Text', 'Classification', 'profanity_level'], dtype='object')"
            ]
          },
          "metadata": {},
          "execution_count": 16
        }
      ]
    },
    {
      "cell_type": "code",
      "source": [
        "# Split the data into training, validation, and test sets\n",
        "train_data, test_data = train_test_split(df, test_size=0.2, random_state=42)\n",
        "val_data, test_data = train_test_split(test_data, test_size=0.5, random_state=42)\n",
        "\n",
        "# Load pre-trained BERT model and tokenizer\n",
        "model_name = 'bert-base-uncased'\n",
        "tokenizer = BertTokenizer.from_pretrained(model_name)\n",
        "num_classes = len(df['Classification'].unique())\n",
        "model = BertForSequenceClassification.from_pretrained(model_name, num_labels=num_classes)\n",
        "\n",
        "# Tokenize and preprocess the data\n",
        "max_length = 150\n",
        "train_data_tokenized = tokenizer.batch_encode_plus(\n",
        "    train_data['Text'].tolist(),\n",
        "    padding='max_length',\n",
        "    truncation=True,\n",
        "    max_length=max_length,\n",
        "    return_tensors='pt'\n",
        ")\n",
        "\n",
        "val_data_tokenized = tokenizer.batch_encode_plus(\n",
        "    val_data['Text'].tolist(),\n",
        "    padding='max_length',\n",
        "    truncation=True,\n",
        "    max_length=max_length,\n",
        "    return_tensors='pt'\n",
        ")\n",
        "\n",
        "test_data_tokenized = tokenizer.batch_encode_plus(\n",
        "    test_data['Text'].tolist(),\n",
        "    padding='max_length',\n",
        "    truncation=True,\n",
        "    max_length=max_length,\n",
        "    return_tensors='pt'\n",
        ")\n",
        "\n",
        "# Encode labels\n",
        "label_encoder = LabelEncoder()\n",
        "train_labels = torch.tensor(label_encoder.fit_transform(train_data['Classification'].tolist()))\n",
        "val_labels = torch.tensor(label_encoder.transform(val_data['Classification'].tolist()))\n",
        "test_labels = torch.tensor(label_encoder.transform(test_data['Classification'].tolist()))\n",
        "\n",
        "# Create DataLoader\n",
        "def create_data_loader(tokenized_data, labels, batch_size, shuffle=True):\n",
        "    dataset = TensorDataset(tokenized_data['input_ids'], tokenized_data['attention_mask'], labels)\n",
        "    return DataLoader(dataset, batch_size=batch_size, shuffle=shuffle)\n",
        "\n",
        "batch_size = 32\n",
        "train_loader = create_data_loader(train_data_tokenized, train_labels, batch_size)\n",
        "val_loader = create_data_loader(val_data_tokenized, val_labels, batch_size)\n",
        "test_loader = create_data_loader(test_data_tokenized, test_labels, batch_size)\n",
        "\n",
        "# Set up training parameters\n",
        "epochs = 3\n",
        "lr = 2e-5\n",
        "optimizer = AdamW(model.parameters(), lr=lr)\n",
        "\n",
        "# Training loop\n",
        "device = torch.device('cuda' if torch.cuda.is_available() else 'cpu')\n",
        "model.to(device)\n",
        "\n",
        "for epoch in range(epochs):\n",
        "    model.train()\n",
        "    for batch in train_loader:\n",
        "        input_ids, attention_mask, labels = batch\n",
        "        input_ids, attention_mask, labels = input_ids.to(device), attention_mask.to(device), labels.to(device)\n",
        "\n",
        "        optimizer.zero_grad()\n",
        "        outputs = model(input_ids, attention_mask=attention_mask, labels=labels)\n",
        "        loss = outputs.loss\n",
        "        loss.backward()\n",
        "        optimizer.step()\n",
        "\n",
        "    # Validation\n",
        "    model.eval()\n",
        "    with torch.no_grad():\n",
        "        val_loss = 0\n",
        "        correct_predictions = 0\n",
        "        total_samples = 0\n",
        "\n",
        "        for batch in val_loader:\n",
        "            input_ids, attention_mask, labels = batch\n",
        "            input_ids, attention_mask, labels = input_ids.to(device), attention_mask.to(device), labels.to(device)\n",
        "\n",
        "            outputs = model(input_ids, attention_mask=attention_mask, labels=labels)\n",
        "            val_loss += outputs.loss.item()\n",
        "            _, predictions = torch.max(outputs.logits, dim=1)\n",
        "            correct_predictions += torch.sum(predictions == labels).item()\n",
        "            total_samples += labels.size(0)\n",
        "\n",
        "        average_val_loss = val_loss / len(val_loader)\n",
        "        accuracy = correct_predictions / total_samples\n",
        "\n",
        "        print(f'Epoch {epoch + 1}/{epochs}: Val Loss = {average_val_loss}, Accuracy = {accuracy}')\n",
        "\n",
        "# Test the model\n",
        "model.eval()\n",
        "with torch.no_grad():\n",
        "    test_loss = 0\n",
        "    correct_predictions = 0\n",
        "    total_samples = 0\n",
        "\n",
        "    for batch in test_loader:\n",
        "        input_ids, attention_mask, labels = batch\n",
        "        input_ids, attention_mask, labels = input_ids.to(device), attention_mask.to(device), labels.to(device)\n",
        "\n",
        "        outputs = model(input_ids, attention_mask=attention_mask, labels=labels)\n",
        "        test_loss += outputs.loss.item()\n",
        "        _, predictions = torch.max(outputs.logits, dim=1)\n",
        "        correct_predictions += torch.sum(predictions == labels).item()\n",
        "        total_samples += labels.size(0)\n",
        "\n",
        "    average_test_loss = test_loss / len(test_loader)\n",
        "    accuracy = correct_predictions / total_samples\n",
        "\n",
        "    print(f'Test Loss = {average_test_loss}, Accuracy = {accuracy}')\n"
      ],
      "metadata": {
        "colab": {
          "base_uri": "https://localhost:8080/"
        },
        "id": "8SgFMxOw0GNV",
        "outputId": "9d86625e-bbf3-47ba-b842-a0756330894b"
      },
      "execution_count": 18,
      "outputs": [
        {
          "output_type": "stream",
          "name": "stderr",
          "text": [
            "Some weights of BertForSequenceClassification were not initialized from the model checkpoint at bert-base-uncased and are newly initialized: ['classifier.bias', 'classifier.weight']\n",
            "You should probably TRAIN this model on a down-stream task to be able to use it for predictions and inference.\n",
            "/usr/local/lib/python3.10/dist-packages/transformers/optimization.py:411: FutureWarning: This implementation of AdamW is deprecated and will be removed in a future version. Use the PyTorch implementation torch.optim.AdamW instead, or set `no_deprecation_warning=True` to disable this warning\n",
            "  warnings.warn(\n"
          ]
        },
        {
          "output_type": "stream",
          "name": "stdout",
          "text": [
            "Epoch 1/3: Val Loss = 0.19236479998965347, Accuracy = 0.9235993208828522\n",
            "Epoch 2/3: Val Loss = 0.13873679327246333, Accuracy = 0.9411431805319751\n",
            "Epoch 3/3: Val Loss = 0.12923972793006605, Accuracy = 0.9371816638370118\n",
            "Test Loss = 0.14240534816469466, Accuracy = 0.9320882852292021\n"
          ]
        }
      ]
    },
    {
      "cell_type": "code",
      "source": [
        "#downloading the weights\n",
        "\n",
        "model.save_pretrained('/content/weights')\n",
        "label_encoder_path = '/content/weights/label_encoder.pkl'\n",
        "with open(label_encoder_path, 'wb') as le_file:\n",
        "    pickle.dump(label_encoder, le_file)"
      ],
      "metadata": {
        "id": "08FzKEcU0jH7"
      },
      "execution_count": 19,
      "outputs": []
    },
    {
      "cell_type": "code",
      "source": [
        "import shutil\n",
        "\n",
        "\n",
        "folder_path = '/content/weights'\n",
        "zip_file_name = '/content/weights'\n",
        "\n",
        "shutil.make_archive(zip_file_name, 'zip', folder_path)\n"
      ],
      "metadata": {
        "id": "1jSDVAq1DGC0"
      },
      "execution_count": null,
      "outputs": []
    },
    {
      "cell_type": "code",
      "source": [
        "from google.colab import drive\n",
        "drive.mount('/content/drive')"
      ],
      "metadata": {
        "colab": {
          "base_uri": "https://localhost:8080/"
        },
        "id": "iKmy3_9kI5vZ",
        "outputId": "e480253a-d7eb-40d7-9c2d-1dc404636314"
      },
      "execution_count": 25,
      "outputs": [
        {
          "output_type": "stream",
          "name": "stdout",
          "text": [
            "Mounted at /content/drive\n"
          ]
        }
      ]
    },
    {
      "cell_type": "code",
      "source": [
        "shutil.move(\"/content/weights.zip\", \"/content/drive/MyDrive/0_audios_to_train\")"
      ],
      "metadata": {
        "colab": {
          "base_uri": "https://localhost:8080/",
          "height": 36
        },
        "id": "NGcJCyOTJ17G",
        "outputId": "9ba32145-2e47-4235-fd6b-c481d6b3ac56"
      },
      "execution_count": 27,
      "outputs": [
        {
          "output_type": "execute_result",
          "data": {
            "text/plain": [
              "'/content/drive/MyDrive/0_audios_to_train/weights.zip'"
            ],
            "application/vnd.google.colaboratory.intrinsic+json": {
              "type": "string"
            }
          },
          "metadata": {},
          "execution_count": 27
        }
      ]
    }
  ]
}